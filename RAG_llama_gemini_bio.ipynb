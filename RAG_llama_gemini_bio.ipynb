{
 "cells": [
  {
   "cell_type": "markdown",
   "id": "1800183f-3ea0-41fa-b4ea-cec3d28eaff9",
   "metadata": {},
   "source": [
    "# RAG Simples com Gemini e Llama Index \n",
    "\n",
    "Experimento simples para construção de uma RAG com um artigo científico utilizando Llama Index e Gemini.\n",
    "\n",
    "\n",
    "**Referência do Artigo**\n",
    "\n",
    "Larsson, D.G.J., Flach, CF. Antibiotic resistance in the environment. Nat Rev Microbiol 20, 257–269 (2022). https://doi.org/10.1038/s41579-021-00649-x\n",
    "\n",
    "Disponível no link: https://rdcu.be/dUn5n\n",
    "\n",
    "\n",
    "Link para documentação dos parâmetros da Gemini: https://cloud.google.com/vertex-ai/generative-ai/docs/learn/prompts/adjust-parameter-values?hl=pt-br\n"
   ]
  },
  {
   "cell_type": "code",
   "execution_count": null,
   "id": "b2cc2b27-c2fd-4612-8970-dc91712c1dc2",
   "metadata": {},
   "outputs": [],
   "source": [
    "# Bibliotecas utilizadas\n",
    "\n",
    "!pip install google-generativeai\n",
    "!pip install llama-index\n",
    "!pip install llama-index-llms-gemini\n",
    "!pip install llama-index-embeddings-huggingface\n",
    "!pip install python-dotenv"
   ]
  },
  {
   "cell_type": "code",
   "execution_count": 1,
   "id": "9b75ea93-fa26-4e34-a47a-86380434c4ab",
   "metadata": {},
   "outputs": [],
   "source": [
    "import os\n",
    "import google.generativeai as genai\n",
    "from dotenv import load_dotenv\n",
    "\n",
    "load_dotenv()  \n",
    "\n",
    "genai.configure(api_key=os.getenv('GOOGLE_API_KEY'))"
   ]
  },
  {
   "cell_type": "code",
   "execution_count": 2,
   "id": "81309c09-2870-43c6-846d-56d13659768d",
   "metadata": {},
   "outputs": [
    {
     "name": "stdout",
     "output_type": "stream",
     "text": [
      "models/gemini-1.0-pro-latest\n",
      "models/gemini-1.0-pro\n",
      "models/gemini-pro\n",
      "models/gemini-1.0-pro-001\n",
      "models/gemini-1.0-pro-vision-latest\n",
      "models/gemini-pro-vision\n",
      "models/gemini-1.5-pro-latest\n",
      "models/gemini-1.5-pro-001\n",
      "models/gemini-1.5-pro-002\n",
      "models/gemini-1.5-pro\n",
      "models/gemini-1.5-pro-exp-0801\n",
      "models/gemini-1.5-pro-exp-0827\n",
      "models/gemini-1.5-flash-latest\n",
      "models/gemini-1.5-flash-001\n",
      "models/gemini-1.5-flash-001-tuning\n",
      "models/gemini-1.5-flash\n",
      "models/gemini-1.5-flash-exp-0827\n",
      "models/gemini-1.5-flash-8b-exp-0827\n",
      "models/gemini-1.5-flash-8b-exp-0924\n",
      "models/gemini-1.5-flash-002\n"
     ]
    }
   ],
   "source": [
    "for m in genai.list_models():\n",
    "    if \"generateContent\" in m.supported_generation_methods:\n",
    "        print(m.name)"
   ]
  },
  {
   "cell_type": "code",
   "execution_count": 3,
   "id": "d7062576-562b-4275-81ad-88167c485539",
   "metadata": {},
   "outputs": [],
   "source": [
    "from llama_index.core import SimpleDirectoryReader\n",
    "\n",
    "documents = SimpleDirectoryReader(\n",
    "    input_files=[\"pubmed_document.pdf\"]\n",
    ").load_data()"
   ]
  },
  {
   "cell_type": "code",
   "execution_count": 4,
   "id": "5e32d648-9269-46e6-9d30-6714cabe1945",
   "metadata": {},
   "outputs": [
    {
     "name": "stdout",
     "output_type": "stream",
     "text": [
      "<class 'list'> \n",
      "\n",
      "13 \n",
      "\n",
      "<class 'llama_index.core.schema.Document'> \n",
      "\n",
      "Doc ID: 430a9553-cc29-4a1c-b0b2-f9041d631917\n",
      "Text: 0123456789();: Many bacterial species evolved the ability to\n",
      "tolerate  antibiotics long before humans started to mass-produce  them\n",
      "to prevent and treat infectious diseases1,2. Isolated  caves2,\n",
      "permafrost cores1, and other environments and  specimens that have\n",
      "been preserved from anthropo-genic bacterial contamination 3,4 can\n",
      "provide insights  ...\n"
     ]
    }
   ],
   "source": [
    "print(type(documents), \"\\n\")\n",
    "print(len(documents), \"\\n\")\n",
    "print(type(documents[0]), \"\\n\")\n",
    "print(documents[0])"
   ]
  },
  {
   "cell_type": "markdown",
   "id": "17071267-1121-40b9-9cd2-6d0a766586b6",
   "metadata": {},
   "source": [
    "## Basic RAG Pipeline"
   ]
  },
  {
   "cell_type": "code",
   "execution_count": 5,
   "id": "109dcb88-65f8-4736-b1ca-ea7d336ae605",
   "metadata": {},
   "outputs": [
    {
     "data": {
      "application/vnd.jupyter.widget-view+json": {
       "model_id": "da47516912e2440ba09c345500cf5004",
       "version_major": 2,
       "version_minor": 0
      },
      "text/plain": [
       "modules.json:   0%|          | 0.00/349 [00:00<?, ?B/s]"
      ]
     },
     "metadata": {},
     "output_type": "display_data"
    },
    {
     "data": {
      "application/vnd.jupyter.widget-view+json": {
       "model_id": "ab859a6d6df64c72956bf5e6b20b9e88",
       "version_major": 2,
       "version_minor": 0
      },
      "text/plain": [
       "config_sentence_transformers.json:   0%|          | 0.00/124 [00:00<?, ?B/s]"
      ]
     },
     "metadata": {},
     "output_type": "display_data"
    },
    {
     "data": {
      "application/vnd.jupyter.widget-view+json": {
       "model_id": "bf3356780ddb4d789b33c2b8d915c862",
       "version_major": 2,
       "version_minor": 0
      },
      "text/plain": [
       "README.md:   0%|          | 0.00/94.8k [00:00<?, ?B/s]"
      ]
     },
     "metadata": {},
     "output_type": "display_data"
    },
    {
     "data": {
      "application/vnd.jupyter.widget-view+json": {
       "model_id": "26437fc9a2894bfe8b4c0911fe845fb8",
       "version_major": 2,
       "version_minor": 0
      },
      "text/plain": [
       "sentence_bert_config.json:   0%|          | 0.00/52.0 [00:00<?, ?B/s]"
      ]
     },
     "metadata": {},
     "output_type": "display_data"
    },
    {
     "data": {
      "application/vnd.jupyter.widget-view+json": {
       "model_id": "748c1cd05a59496abd02ac522d54fa04",
       "version_major": 2,
       "version_minor": 0
      },
      "text/plain": [
       "config.json:   0%|          | 0.00/743 [00:00<?, ?B/s]"
      ]
     },
     "metadata": {},
     "output_type": "display_data"
    },
    {
     "data": {
      "application/vnd.jupyter.widget-view+json": {
       "model_id": "998766a68ced4481a21335af5755fee8",
       "version_major": 2,
       "version_minor": 0
      },
      "text/plain": [
       "model.safetensors:   0%|          | 0.00/133M [00:00<?, ?B/s]"
      ]
     },
     "metadata": {},
     "output_type": "display_data"
    },
    {
     "data": {
      "application/vnd.jupyter.widget-view+json": {
       "model_id": "434e586904cd48af98ad8afedee0e26e",
       "version_major": 2,
       "version_minor": 0
      },
      "text/plain": [
       "tokenizer_config.json:   0%|          | 0.00/366 [00:00<?, ?B/s]"
      ]
     },
     "metadata": {},
     "output_type": "display_data"
    },
    {
     "data": {
      "application/vnd.jupyter.widget-view+json": {
       "model_id": "246c8c482db747e1aa69c9848867ffe9",
       "version_major": 2,
       "version_minor": 0
      },
      "text/plain": [
       "vocab.txt:   0%|          | 0.00/232k [00:00<?, ?B/s]"
      ]
     },
     "metadata": {},
     "output_type": "display_data"
    },
    {
     "data": {
      "application/vnd.jupyter.widget-view+json": {
       "model_id": "8a9f6e4aaf78493b89727a7d7a250318",
       "version_major": 2,
       "version_minor": 0
      },
      "text/plain": [
       "tokenizer.json:   0%|          | 0.00/711k [00:00<?, ?B/s]"
      ]
     },
     "metadata": {},
     "output_type": "display_data"
    },
    {
     "data": {
      "application/vnd.jupyter.widget-view+json": {
       "model_id": "42b4d68854944fe7a2eb578e2fbb86ee",
       "version_major": 2,
       "version_minor": 0
      },
      "text/plain": [
       "special_tokens_map.json:   0%|          | 0.00/125 [00:00<?, ?B/s]"
      ]
     },
     "metadata": {},
     "output_type": "display_data"
    },
    {
     "data": {
      "application/vnd.jupyter.widget-view+json": {
       "model_id": "6f86a7fe62424d198f152374e18c8e8b",
       "version_major": 2,
       "version_minor": 0
      },
      "text/plain": [
       "1_Pooling/config.json:   0%|          | 0.00/190 [00:00<?, ?B/s]"
      ]
     },
     "metadata": {},
     "output_type": "display_data"
    },
    {
     "data": {
      "application/vnd.jupyter.widget-view+json": {
       "model_id": "c43aee91533f43b3a9b557cf46585cc7",
       "version_major": 2,
       "version_minor": 0
      },
      "text/plain": [
       "Parsing nodes:   0%|          | 0/13 [00:00<?, ?it/s]"
      ]
     },
     "metadata": {},
     "output_type": "display_data"
    },
    {
     "data": {
      "application/vnd.jupyter.widget-view+json": {
       "model_id": "7aa77680b5dd4843b3f15433f5954342",
       "version_major": 2,
       "version_minor": 0
      },
      "text/plain": [
       "Generating embeddings:   0%|          | 0/31 [00:00<?, ?it/s]"
      ]
     },
     "metadata": {},
     "output_type": "display_data"
    }
   ],
   "source": [
    "from llama_index.core import VectorStoreIndex\n",
    "from llama_index.llms.gemini import Gemini\n",
    "from llama_index.embeddings.huggingface import HuggingFaceEmbedding\n",
    "from llama_index.core import Settings\n",
    "\n",
    "from llama_index.core.node_parser import SentenceSplitter\n",
    "from llama_index.core.node_parser import TokenTextSplitter\n",
    "\n",
    "\n",
    "llm  = Gemini(model=\"models/gemini-1.5-pro\", temperature=0.3, top_p=1, top_k=32)\n",
    "embed_model = HuggingFaceEmbedding(model_name=\"BAAI/bge-small-en-v1.5\")\n",
    "\n",
    "text_splitter = SentenceSplitter(chunk_size=1024, chunk_overlap=20)\n",
    "splitter = TokenTextSplitter(chunk_size=1024, chunk_overlap=20)\n",
    "\n",
    "\n",
    "# global settings\n",
    "Settings.llm = llm\n",
    "Settings.embed_model = embed_model\n",
    "Settings.text_splitter = text_splitter\n",
    "\n",
    "index = VectorStoreIndex.from_documents(documents, show_progress=True)\n",
    "\n",
    "query_engine = index.as_query_engine()"
   ]
  },
  {
   "cell_type": "code",
   "execution_count": 6,
   "id": "c8ea4bec-d170-4bb5-aadc-229d52bbcbc7",
   "metadata": {},
   "outputs": [
    {
     "name": "stdout",
     "output_type": "stream",
     "text": [
      "The evolution of antibiotic resistance can stem from mutations within a bacterium's genome or the acquisition of foreign DNA. The extensive genetic diversity of external environments, such as water and soil, provides a vast pool of genes that pathogens could potentially acquire to counteract antibiotics. \n",
      "\n",
      "The spread of antibiotic resistance is facilitated by the mobility of antibiotic resistance genes (ARGs). This mobility is often achieved through association with genetic elements like insertion sequences, gene cassettes, plasmids, and integrative conjugative elements. Environments characterized by high metabolic activity, extensive cell-to-cell contact (like biofilms), and the presence of fecal bacteria can accelerate the mobilization and transfer of ARGs. \n",
      "\n",
      "Furthermore, the presence of antibiotics, while not essential for the occurrence of these processes, can significantly increase their rates. Understanding the specific environments and conditions that accelerate the evolution and transmission of antibiotic resistance is crucial for addressing this global health challenge. \n",
      "\n"
     ]
    }
   ],
   "source": [
    "response = query_engine.query(\n",
    "    \"What are the factors that contribute to the development and spread of antibiotic resistance??\"\n",
    ")\n",
    "print(str(response))"
   ]
  },
  {
   "cell_type": "code",
   "execution_count": 7,
   "id": "f69db717-82b7-478f-8875-c62a33f5abbd",
   "metadata": {},
   "outputs": [
    {
     "name": "stdout",
     "output_type": "stream",
     "text": [
      "Pollution from antibiotic manufacturing is a major problem, especially in low- and middle-income countries, where production costs are lower and waste management is often insufficient. Excessive emissions of antibiotic residues from manufacturing have been reported, posing significant risks to human health and the environment. \n",
      "\n",
      "Addressing this issue is crucial, as resistant bacteria can easily spread across borders, impacting everyone in the long run. While some pharmaceutical companies have voluntarily set emission targets, the lack of transparency regarding production sites and emission levels makes it difficult to assess progress. Therefore, active intervention from public institutions is necessary to enforce stricter pollution control measures and ensure the effectiveness of mitigation efforts. \n",
      "\n"
     ]
    }
   ],
   "source": [
    "response_2 = query_engine.query(\n",
    "    \"Explain the problem of pollution.\"\n",
    ")\n",
    "print(str(response_2))"
   ]
  },
  {
   "cell_type": "code",
   "execution_count": 8,
   "id": "29a1ee54-68e7-4ac3-b6af-ece06ef9281a",
   "metadata": {},
   "outputs": [
    {
     "name": "stdout",
     "output_type": "stream",
     "text": [
      "The environment contains a vast and diverse microbiome, which serves as a reservoir for antibiotic resistance genes (ARGs). These ARGs can be transferred to bacteria that infect humans and animals, making infections harder to treat.  While the overuse of antibiotics in healthcare and agriculture is a major driver of resistance, the environment plays a significant role in the evolution and spread of these resistant bacteria. \n",
      "\n"
     ]
    }
   ],
   "source": [
    "response_3 = query_engine.query(\n",
    "    \"How the environment contributes to the problem of antibiotic resistance??\"\n",
    ")\n",
    "print(str(response_3))"
   ]
  },
  {
   "cell_type": "code",
   "execution_count": null,
   "id": "313a8b27-8cd6-4e47-a5ef-979f37f8ba0a",
   "metadata": {},
   "outputs": [],
   "source": []
  }
 ],
 "metadata": {
  "kernelspec": {
   "display_name": "Python 3 (ipykernel)",
   "language": "python",
   "name": "python3"
  },
  "language_info": {
   "codemirror_mode": {
    "name": "ipython",
    "version": 3
   },
   "file_extension": ".py",
   "mimetype": "text/x-python",
   "name": "python",
   "nbconvert_exporter": "python",
   "pygments_lexer": "ipython3",
   "version": "3.10.12"
  }
 },
 "nbformat": 4,
 "nbformat_minor": 5
}
